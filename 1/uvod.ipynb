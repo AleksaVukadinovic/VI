{
 "cells": [
  {
   "cell_type": "code",
   "execution_count": 2,
   "id": "8e8d5bd3-436f-481e-a9b7-e1ef275b74a0",
   "metadata": {},
   "outputs": [
    {
     "name": "stdout",
     "output_type": "stream",
     "text": [
      "Hello\n"
     ]
    }
   ],
   "source": [
    "print('Hello')"
   ]
  },
  {
   "cell_type": "code",
   "execution_count": 3,
   "id": "ffad2288-32ef-41c4-941e-98600ad121a8",
   "metadata": {},
   "outputs": [],
   "source": [
    "a = 15"
   ]
  },
  {
   "cell_type": "code",
   "execution_count": 4,
   "id": "35b28abc-2c17-43fa-8cfe-d64b89de0405",
   "metadata": {},
   "outputs": [],
   "source": [
    "a = input()"
   ]
  },
  {
   "cell_type": "code",
   "execution_count": 5,
   "id": "c8082be6-80ad-4f61-ac9d-56d14e214bb6",
   "metadata": {},
   "outputs": [
    {
     "data": {
      "text/plain": [
       "'555'"
      ]
     },
     "execution_count": 5,
     "metadata": {},
     "output_type": "execute_result"
    }
   ],
   "source": [
    "a"
   ]
  },
  {
   "cell_type": "code",
   "execution_count": 6,
   "id": "975e5977-a515-48bf-9eae-a48d964bbc1a",
   "metadata": {},
   "outputs": [
    {
     "data": {
      "text/plain": [
       "1123231.0"
      ]
     },
     "execution_count": 6,
     "metadata": {},
     "output_type": "execute_result"
    }
   ],
   "source": [
    "float(a)"
   ]
  },
  {
   "cell_type": "code",
   "execution_count": 8,
   "id": "28f48664-c0cb-451f-8bc4-b4afec2f5707",
   "metadata": {},
   "outputs": [
    {
     "name": "stdout",
     "output_type": "stream",
     "text": [
      "x = 3, y = 4\n"
     ]
    }
   ],
   "source": [
    "x = 3\n",
    "y = 4\n",
    "print('x = {}, y = {}'.format(x, y))"
   ]
  },
  {
   "cell_type": "code",
   "execution_count": 9,
   "id": "0815d4e2-5dbe-4b11-b40a-d0c9028a45fc",
   "metadata": {},
   "outputs": [
    {
     "name": "stdout",
     "output_type": "stream",
     "text": [
      " 55\n"
     ]
    }
   ],
   "source": [
    "a = int(input())"
   ]
  },
  {
   "cell_type": "code",
   "execution_count": 10,
   "id": "4df5e83d-0f31-4817-9444-93736cee2c45",
   "metadata": {},
   "outputs": [
    {
     "name": "stdout",
     "output_type": "stream",
     "text": [
      " a\n"
     ]
    },
    {
     "name": "stdout",
     "output_type": "stream",
     "text": [
      "Greska invalid literal for int() with base 10: 'a'\n"
     ]
    }
   ],
   "source": [
    "try:\n",
    "    a = int(input())\n",
    "    a\n",
    "except ValueError as e:\n",
    "    print('Greska', e)"
   ]
  },
  {
   "cell_type": "code",
   "execution_count": null,
   "id": "8ea9a8f6-8f24-446b-8e2f-df7dcd1970a3",
   "metadata": {},
   "outputs": [],
   "source": [
    "f = open('ulaz.txt', 'r')\n",
    "s = f.read()\n",
    "print(s)"
   ]
  },
  {
   "cell_type": "code",
   "execution_count": null,
   "id": "3e17312d-94b3-4488-b8b7-bb802eaa8dec",
   "metadata": {},
   "outputs": [],
   "source": [
    "f = open('izlaz.txt', 'w')\n",
    "f.write('ispis\\n')\n",
    "f.close()"
   ]
  },
  {
   "cell_type": "code",
   "execution_count": null,
   "id": "a94c6bae-3bff-47cf-8a93-32d6095c10a5",
   "metadata": {},
   "outputs": [],
   "source": [
    "try:\n",
    "    with open('izlaz.txt', 'w') as f:\n",
    "        f.write('jos jedan izlaz')\n",
    "except OSError as e:\n",
    "    print(e)"
   ]
  }
 ],
 "metadata": {
  "kernelspec": {
   "display_name": "Python 3 (ipykernel)",
   "language": "python",
   "name": "python3"
  }
 },
 "nbformat": 4,
 "nbformat_minor": 5
}
