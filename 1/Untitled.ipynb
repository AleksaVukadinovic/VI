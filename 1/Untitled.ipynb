{
 "cells": [
  {
   "cell_type": "code",
   "execution_count": 1,
   "id": "8e8d5bd3-436f-481e-a9b7-e1ef275b74a0",
   "metadata": {},
   "outputs": [
    {
     "name": "stdout",
     "output_type": "stream",
     "text": [
      "Hello\n"
     ]
    }
   ],
   "source": [
    "print('Hello')"
   ]
  },
  {
   "cell_type": "code",
   "execution_count": 3,
   "id": "ffad2288-32ef-41c4-941e-98600ad121a8",
   "metadata": {},
   "outputs": [],
   "source": [
    "a = 15"
   ]
  },
  {
   "cell_type": "code",
   "execution_count": 4,
   "id": "35b28abc-2c17-43fa-8cfe-d64b89de0405",
   "metadata": {},
   "outputs": [
    {
     "name": "stdout",
     "output_type": "stream",
     "text": [
      " 1123231\n"
     ]
    }
   ],
   "source": [
    "a = input()"
   ]
  },
  {
   "cell_type": "code",
   "execution_count": 5,
   "id": "c8082be6-80ad-4f61-ac9d-56d14e214bb6",
   "metadata": {},
   "outputs": [
    {
     "data": {
      "text/plain": [
       "'1123231'"
      ]
     },
     "execution_count": 5,
     "metadata": {},
     "output_type": "execute_result"
    }
   ],
   "source": [
    "a"
   ]
  },
  {
   "cell_type": "code",
   "execution_count": 6,
   "id": "975e5977-a515-48bf-9eae-a48d964bbc1a",
   "metadata": {},
   "outputs": [
    {
     "data": {
      "text/plain": [
       "1123231.0"
      ]
     },
     "execution_count": 6,
     "metadata": {},
     "output_type": "execute_result"
    }
   ],
   "source": [
    "float(a)"
   ]
  },
  {
   "cell_type": "code",
   "execution_count": 8,
   "id": "28f48664-c0cb-451f-8bc4-b4afec2f5707",
   "metadata": {},
   "outputs": [
    {
     "name": "stdout",
     "output_type": "stream",
     "text": [
      "x = 3, y = 4\n"
     ]
    }
   ],
   "source": [
    "x = 3\n",
    "y = 4\n",
    "print('x = {}, y = {}'.format(x, y))"
   ]
  },
  {
   "cell_type": "code",
   "execution_count": 9,
   "id": "0815d4e2-5dbe-4b11-b40a-d0c9028a45fc",
   "metadata": {},
   "outputs": [
    {
     "name": "stdout",
     "output_type": "stream",
     "text": [
      " 55\n"
     ]
    }
   ],
   "source": [
    "a = int(input())"
   ]
  },
  {
   "cell_type": "code",
   "execution_count": 10,
   "id": "4df5e83d-0f31-4817-9444-93736cee2c45",
   "metadata": {},
   "outputs": [
    {
     "name": "stdout",
     "output_type": "stream",
     "text": [
      " a\n"
     ]
    },
    {
     "name": "stdout",
     "output_type": "stream",
     "text": [
      "Greska invalid literal for int() with base 10: 'a'\n"
     ]
    }
   ],
   "source": [
    "try:\n",
    "    a = int(input())\n",
    "    a\n",
    "except ValueError as e:\n",
    "    print('Greska', e)"
   ]
  },
  {
   "cell_type": "code",
   "execution_count": null,
   "id": "8ea9a8f6-8f24-446b-8e2f-df7dcd1970a3",
   "metadata": {},
   "outputs": [],
   "source": [
    "f = open('ulaz.txt', 'r')\n",
    "s = f.read()\n",
    "print(s)"
   ]
  },
  {
   "cell_type": "code",
   "execution_count": null,
   "id": "3e17312d-94b3-4488-b8b7-bb802eaa8dec",
   "metadata": {},
   "outputs": [],
   "source": [
    "f = open('izlaz.txt', 'w')\n",
    "f.write('ispis\\n')\n",
    "f.close()"
   ]
  },
  {
   "cell_type": "code",
   "execution_count": null,
   "id": "a94c6bae-3bff-47cf-8a93-32d6095c10a5",
   "metadata": {},
   "outputs": [],
   "source": [
    "try:\n",
    "    with open('izlaz.txt', 'w') as f:\n",
    "        f.write('jos jedan izlaz')\n",
    "except OSError as e:\n",
    "    print(e)"
   ]
  },
  {
   "cell_type": "code",
   "execution_count": 11,
   "id": "455e1b23-2770-410e-943f-39d5136b1ff3",
   "metadata": {},
   "outputs": [
    {
     "name": "stdout",
     "output_type": "stream",
     "text": [
      "10\n",
      "8\n",
      "6\n",
      "4\n",
      "2\n"
     ]
    }
   ],
   "source": [
    "for i in range(10, 0, -2):\n",
    "    print(i)"
   ]
  },
  {
   "cell_type": "code",
   "execution_count": 12,
   "id": "cfb35f0a-774a-4913-a8c0-54f146f52992",
   "metadata": {},
   "outputs": [
    {
     "name": "stdout",
     "output_type": "stream",
     "text": [
      "0\n",
      "1\n",
      "2\n",
      "3\n",
      "4\n",
      "5\n",
      "6\n",
      "7\n",
      "8\n",
      "9\n"
     ]
    }
   ],
   "source": [
    "i = 0\n",
    "while i < 10:\n",
    "    print(i)\n",
    "    i+=1"
   ]
  },
  {
   "cell_type": "code",
   "execution_count": 13,
   "id": "589dec01-b877-4efd-82aa-c9387b7e7ea2",
   "metadata": {},
   "outputs": [],
   "source": [
    "def min_max(a,b):\n",
    "    minimum = min(a,b)\n",
    "    maximum = max(a, b)\n",
    "    return minimum, maximum"
   ]
  },
  {
   "cell_type": "code",
   "execution_count": 14,
   "id": "7fec23bc-6821-484f-9b12-bb355cbf2dcd",
   "metadata": {},
   "outputs": [],
   "source": [
    "def change(a):\n",
    "    a = 10"
   ]
  },
  {
   "cell_type": "code",
   "execution_count": 15,
   "id": "b2a9feb0-5d5d-41a6-9f5d-e2f43fd13668",
   "metadata": {},
   "outputs": [
    {
     "data": {
      "text/plain": [
       "15"
      ]
     },
     "execution_count": 15,
     "metadata": {},
     "output_type": "execute_result"
    }
   ],
   "source": [
    "x = int(15)\n",
    "change(x)\n",
    "x"
   ]
  },
  {
   "cell_type": "code",
   "execution_count": 16,
   "id": "66edcd3c-5877-4939-abd5-042d9bae12f2",
   "metadata": {},
   "outputs": [],
   "source": [
    "ntorka = (3, 'df', True, 3.14)"
   ]
  },
  {
   "cell_type": "code",
   "execution_count": 17,
   "id": "06325efe-cf35-4fac-b7f5-a6b1461fa5e7",
   "metadata": {},
   "outputs": [
    {
     "data": {
      "text/plain": [
       "'df'"
      ]
     },
     "execution_count": 17,
     "metadata": {},
     "output_type": "execute_result"
    }
   ],
   "source": [
    "ntorka[1]"
   ]
  },
  {
   "cell_type": "code",
   "execution_count": 19,
   "id": "7e8fc47b-7352-4d38-958a-504592a40e17",
   "metadata": {},
   "outputs": [],
   "source": [
    "lista = [1,2,3,4,5]"
   ]
  },
  {
   "cell_type": "code",
   "execution_count": 20,
   "id": "ca2fb97a-66b8-4fa0-ae0b-4f7948e41124",
   "metadata": {},
   "outputs": [
    {
     "data": {
      "text/plain": [
       "2"
      ]
     },
     "execution_count": 20,
     "metadata": {},
     "output_type": "execute_result"
    }
   ],
   "source": [
    "lista[1]"
   ]
  },
  {
   "cell_type": "code",
   "execution_count": 23,
   "id": "95898a55-6ac8-47b6-b28b-5fd09f79791c",
   "metadata": {},
   "outputs": [
    {
     "data": {
      "text/plain": [
       "[1, 42, 3, 4, 5]"
      ]
     },
     "execution_count": 23,
     "metadata": {},
     "output_type": "execute_result"
    }
   ],
   "source": [
    "lista[1] = 42\n",
    "lista"
   ]
  },
  {
   "cell_type": "code",
   "execution_count": 24,
   "id": "ad376548-f696-48fd-9d36-fd4d8ac60d7f",
   "metadata": {},
   "outputs": [],
   "source": [
    "lista.append(33)"
   ]
  },
  {
   "cell_type": "code",
   "execution_count": 25,
   "id": "8a06782e-1cec-437d-89de-433537c618c5",
   "metadata": {},
   "outputs": [
    {
     "data": {
      "text/plain": [
       "33"
      ]
     },
     "execution_count": 25,
     "metadata": {},
     "output_type": "execute_result"
    }
   ],
   "source": [
    "lista.pop()"
   ]
  },
  {
   "cell_type": "code",
   "execution_count": 26,
   "id": "c36fb101-3f03-478b-9e55-dbb32ee52971",
   "metadata": {},
   "outputs": [
    {
     "name": "stdout",
     "output_type": "stream",
     "text": [
      "1\n",
      "42\n",
      "3\n",
      "4\n",
      "5\n"
     ]
    }
   ],
   "source": [
    "for el in lista:\n",
    "    print(el)"
   ]
  },
  {
   "cell_type": "code",
   "execution_count": 27,
   "id": "ed392774-4701-42fb-a7f4-b9b338f56044",
   "metadata": {},
   "outputs": [
    {
     "name": "stdout",
     "output_type": "stream",
     "text": [
      "0 1\n",
      "1 42\n",
      "2 3\n",
      "3 4\n",
      "4 5\n"
     ]
    }
   ],
   "source": [
    "for index, el in enumerate(lista):\n",
    "    print(index, el)"
   ]
  },
  {
   "cell_type": "code",
   "execution_count": 30,
   "id": "4e4d823a-236a-4968-a0a5-2ebaec534cad",
   "metadata": {},
   "outputs": [
    {
     "data": {
      "text/plain": [
       "[5, 4, 3, 42, 1]"
      ]
     },
     "execution_count": 30,
     "metadata": {},
     "output_type": "execute_result"
    }
   ],
   "source": [
    "lista.reverse()\n",
    "lista"
   ]
  },
  {
   "cell_type": "code",
   "execution_count": 35,
   "id": "7e7e3290-d7d6-4538-8df7-107fb3153208",
   "metadata": {},
   "outputs": [
    {
     "data": {
      "text/plain": [
       "[5, 4, 3, 42, 1]"
      ]
     },
     "execution_count": 35,
     "metadata": {},
     "output_type": "execute_result"
    }
   ],
   "source": [
    "reversed(lista)\n",
    "lista\n",
    "list(reversed(lista))\n",
    "lista"
   ]
  },
  {
   "cell_type": "code",
   "execution_count": 36,
   "id": "3e886569-9dec-4441-ada1-76164fd31f4b",
   "metadata": {},
   "outputs": [],
   "source": [
    "lista = list(range(0, 100))"
   ]
  },
  {
   "cell_type": "code",
   "execution_count": 37,
   "id": "2f2ce049-b275-4e9e-95f7-bca27c5bc7ec",
   "metadata": {},
   "outputs": [
    {
     "data": {
      "text/plain": [
       "[20, 24, 28, 32, 36, 40, 44, 48]"
      ]
     },
     "execution_count": 37,
     "metadata": {},
     "output_type": "execute_result"
    }
   ],
   "source": [
    "lista[20:50:4]"
   ]
  },
  {
   "cell_type": "code",
   "execution_count": 38,
   "id": "3bf191cf-f6ab-4357-a8a0-71ddb14b3f74",
   "metadata": {},
   "outputs": [
    {
     "data": {
      "text/plain": [
       "99"
      ]
     },
     "execution_count": 38,
     "metadata": {},
     "output_type": "execute_result"
    }
   ],
   "source": [
    "lista[-1]"
   ]
  },
  {
   "cell_type": "code",
   "execution_count": 39,
   "id": "62163c75-ae8e-4f80-90d3-730d5732b89c",
   "metadata": {},
   "outputs": [
    {
     "data": {
      "text/plain": [
       "[0,\n",
       " 4,\n",
       " 16,\n",
       " 36,\n",
       " 64,\n",
       " 100,\n",
       " 144,\n",
       " 196,\n",
       " 256,\n",
       " 324,\n",
       " 400,\n",
       " 484,\n",
       " 576,\n",
       " 676,\n",
       " 784,\n",
       " 900,\n",
       " 1024,\n",
       " 1156,\n",
       " 1296,\n",
       " 1444,\n",
       " 1600,\n",
       " 1764,\n",
       " 1936,\n",
       " 2116,\n",
       " 2304,\n",
       " 2500,\n",
       " 2704,\n",
       " 2916,\n",
       " 3136,\n",
       " 3364,\n",
       " 3600,\n",
       " 3844,\n",
       " 4096,\n",
       " 4356,\n",
       " 4624,\n",
       " 4900,\n",
       " 5184,\n",
       " 5476,\n",
       " 5776,\n",
       " 6084,\n",
       " 6400,\n",
       " 6724,\n",
       " 7056,\n",
       " 7396,\n",
       " 7744,\n",
       " 8100,\n",
       " 8464,\n",
       " 8836,\n",
       " 9216,\n",
       " 9604]"
      ]
     },
     "execution_count": 39,
     "metadata": {},
     "output_type": "execute_result"
    }
   ],
   "source": [
    "kvadrati = [x**2 for x in lista if x % 2 ==0]\n",
    "kvadrati"
   ]
  },
  {
   "cell_type": "code",
   "execution_count": 40,
   "id": "05ebe493-c671-4c77-87a2-b7af4bc3d9c8",
   "metadata": {},
   "outputs": [
    {
     "data": {
      "text/plain": [
       "[(1, 'a'), (2, 'b'), (3, 'c'), (4, 'd'), (5, 'e')]"
      ]
     },
     "execution_count": 40,
     "metadata": {},
     "output_type": "execute_result"
    }
   ],
   "source": [
    "l1 = [1,2,3,4,5]\n",
    "l2 = ['a', 'b', 'c', 'd', 'e']\n",
    "l3 = []\n",
    "for i in range(0, min(len(l1), len(l2))):\n",
    "    l3.append((l1[i], l2[i]))\n",
    "l3"
   ]
  },
  {
   "cell_type": "code",
   "execution_count": 43,
   "id": "900f02a1-c24c-4ed2-b08e-3737f2fdfdb8",
   "metadata": {},
   "outputs": [
    {
     "data": {
      "text/plain": [
       "[(1, 'a', 1, 'a'),\n",
       " (2, 'b', 2, 'b'),\n",
       " (3, 'c', 3, 'c'),\n",
       " (4, 'd', 4, 'd'),\n",
       " (5, 'e', 5, 'e')]"
      ]
     },
     "execution_count": 43,
     "metadata": {},
     "output_type": "execute_result"
    }
   ],
   "source": [
    "l3 = zip(l1, l2, l1, l2)\n",
    "list(l3)"
   ]
  },
  {
   "cell_type": "code",
   "execution_count": 46,
   "id": "4cd9f89d-4129-4fb5-948b-ac2dfc23c26a",
   "metadata": {},
   "outputs": [
    {
     "data": {
      "text/plain": [
       "[99,\n",
       " 98,\n",
       " 97,\n",
       " 96,\n",
       " 95,\n",
       " 94,\n",
       " 93,\n",
       " 92,\n",
       " 91,\n",
       " 90,\n",
       " 89,\n",
       " 88,\n",
       " 87,\n",
       " 86,\n",
       " 85,\n",
       " 84,\n",
       " 83,\n",
       " 82,\n",
       " 81,\n",
       " 80,\n",
       " 79,\n",
       " 78,\n",
       " 77,\n",
       " 76,\n",
       " 75,\n",
       " 74,\n",
       " 73,\n",
       " 72,\n",
       " 71,\n",
       " 70,\n",
       " 69,\n",
       " 68,\n",
       " 67,\n",
       " 66,\n",
       " 65,\n",
       " 64,\n",
       " 63,\n",
       " 62,\n",
       " 61,\n",
       " 60,\n",
       " 59,\n",
       " 58,\n",
       " 57,\n",
       " 56,\n",
       " 55,\n",
       " 54,\n",
       " 53,\n",
       " 52,\n",
       " 51,\n",
       " 50,\n",
       " 49,\n",
       " 48,\n",
       " 47,\n",
       " 46,\n",
       " 45,\n",
       " 44,\n",
       " 43,\n",
       " 42,\n",
       " 41,\n",
       " 40,\n",
       " 39,\n",
       " 38,\n",
       " 37,\n",
       " 36,\n",
       " 35,\n",
       " 34,\n",
       " 33,\n",
       " 32,\n",
       " 31,\n",
       " 30,\n",
       " 29,\n",
       " 28,\n",
       " 27,\n",
       " 26,\n",
       " 25,\n",
       " 24,\n",
       " 23,\n",
       " 22,\n",
       " 21,\n",
       " 20,\n",
       " 19,\n",
       " 18,\n",
       " 17,\n",
       " 16,\n",
       " 15,\n",
       " 14,\n",
       " 13,\n",
       " 12,\n",
       " 11,\n",
       " 10,\n",
       " 9,\n",
       " 8,\n",
       " 7,\n",
       " 6,\n",
       " 5,\n",
       " 4,\n",
       " 3,\n",
       " 2,\n",
       " 1,\n",
       " 0]"
      ]
     },
     "execution_count": 46,
     "metadata": {},
     "output_type": "execute_result"
    }
   ],
   "source": [
    "lista.sort(reverse = True) # SHIFT + TAB\n",
    "lista"
   ]
  },
  {
   "cell_type": "code",
   "execution_count": 47,
   "id": "02b57d87-ac2a-434a-95b4-bd17bd9e88ec",
   "metadata": {},
   "outputs": [
    {
     "data": {
      "text/plain": [
       "[[1, 2, 34], [2, 3, 4], [5, 6, 7], [5, 6, 7]]"
      ]
     },
     "execution_count": 47,
     "metadata": {},
     "output_type": "execute_result"
    }
   ],
   "source": [
    "matrica = [\n",
    "    [1, 2, 34],\n",
    "    [2, 3, 4],\n",
    "    [5, 6, 7],\n",
    "    [5, 6, 7]\n",
    "]\n",
    "matrica"
   ]
  },
  {
   "cell_type": "code",
   "execution_count": 48,
   "id": "eb1fc9b1-9510-45d1-b8c1-af5529be3e61",
   "metadata": {},
   "outputs": [
    {
     "data": {
      "text/plain": [
       "'l'"
      ]
     },
     "execution_count": 48,
     "metadata": {},
     "output_type": "execute_result"
    }
   ],
   "source": [
    "s = 'Hello World!'\n",
    "s[3]"
   ]
  },
  {
   "cell_type": "code",
   "execution_count": 49,
   "id": "ffd340ec-bbc1-4fb7-a5e5-c141ad3a7ca8",
   "metadata": {},
   "outputs": [
    {
     "data": {
      "text/plain": [
       "['H', 'e', 'l', 'l', 'o', ' ', 'W', 'o', 'r', 'l', 'd', '!']"
      ]
     },
     "execution_count": 49,
     "metadata": {},
     "output_type": "execute_result"
    }
   ],
   "source": [
    "s_arr = list(s)\n",
    "s_arr"
   ]
  },
  {
   "cell_type": "code",
   "execution_count": 50,
   "id": "6e845bdc-b592-4c02-bd7c-9f524bcbf306",
   "metadata": {},
   "outputs": [],
   "source": [
    "s_arr[3] = '!'"
   ]
  },
  {
   "cell_type": "code",
   "execution_count": 51,
   "id": "3de25ca1-f372-48ad-9913-77aade194d30",
   "metadata": {},
   "outputs": [
    {
     "data": {
      "text/plain": [
       "'Hel!o World!'"
      ]
     },
     "execution_count": 51,
     "metadata": {},
     "output_type": "execute_result"
    }
   ],
   "source": [
    "''.join(s_arr)"
   ]
  },
  {
   "cell_type": "code",
   "execution_count": 52,
   "id": "190f6b7f-ced5-499d-a9eb-7ba58926beeb",
   "metadata": {},
   "outputs": [],
   "source": [
    "import random"
   ]
  },
  {
   "cell_type": "code",
   "execution_count": 58,
   "id": "abaf83a1-64ad-48e5-b523-acd3f8bce119",
   "metadata": {},
   "outputs": [
    {
     "data": {
      "text/plain": [
       "0.2667844189811419"
      ]
     },
     "execution_count": 58,
     "metadata": {},
     "output_type": "execute_result"
    }
   ],
   "source": [
    "random.random()"
   ]
  },
  {
   "cell_type": "code",
   "execution_count": 59,
   "id": "faa96a41-8b89-4a29-ad23-eb876ef0c0d7",
   "metadata": {},
   "outputs": [],
   "source": [
    "lista = [1, 2, 3, 4, 5, 6, 7]"
   ]
  },
  {
   "cell_type": "code",
   "execution_count": 62,
   "id": "39dfa48c-072c-493d-bbdc-6ba58d22ec64",
   "metadata": {},
   "outputs": [
    {
     "data": {
      "text/plain": [
       "[5]"
      ]
     },
     "execution_count": 62,
     "metadata": {},
     "output_type": "execute_result"
    }
   ],
   "source": [
    "random.choices(lista)"
   ]
  },
  {
   "cell_type": "code",
   "execution_count": 63,
   "id": "453992f1-b22f-4404-ae62-933acfe4be68",
   "metadata": {},
   "outputs": [
    {
     "data": {
      "text/plain": [
       "[6, 7, 4, 2]"
      ]
     },
     "execution_count": 63,
     "metadata": {},
     "output_type": "execute_result"
    }
   ],
   "source": [
    "random.sample(lista, 4)"
   ]
  },
  {
   "cell_type": "code",
   "execution_count": 65,
   "id": "cced196e-da6b-4a36-9fac-c06a99574067",
   "metadata": {},
   "outputs": [],
   "source": [
    "skup = set([3, 41, 2, 3, 4, 55, 1,7 ,2])"
   ]
  },
  {
   "cell_type": "code",
   "execution_count": 68,
   "id": "c436ccc6-fa96-4133-ae28-4745e88dc2e1",
   "metadata": {},
   "outputs": [
    {
     "data": {
      "text/plain": [
       "{1, 2, 3, 4}"
      ]
     },
     "execution_count": 68,
     "metadata": {},
     "output_type": "execute_result"
    }
   ],
   "source": [
    "s1 = set([1,2,3,4,5,6,7])\n",
    "s2 = set([5,6,7,8,9,10])\n",
    "s1 - s2"
   ]
  },
  {
   "cell_type": "code",
   "execution_count": 69,
   "id": "844aee22-40b8-474a-a020-1c82eaaeb4e9",
   "metadata": {},
   "outputs": [
    {
     "data": {
      "text/plain": [
       "{1, 2, 3, 4, 5, 6, 7, 8, 9, 10}"
      ]
     },
     "execution_count": 69,
     "metadata": {},
     "output_type": "execute_result"
    }
   ],
   "source": [
    "s1 | s2"
   ]
  },
  {
   "cell_type": "code",
   "execution_count": 70,
   "id": "6dbc97ba-acf6-49ae-9a25-708eea995d61",
   "metadata": {},
   "outputs": [
    {
     "data": {
      "text/plain": [
       "{5, 6, 7}"
      ]
     },
     "execution_count": 70,
     "metadata": {},
     "output_type": "execute_result"
    }
   ],
   "source": [
    "s1 & s2"
   ]
  },
  {
   "cell_type": "code",
   "execution_count": 71,
   "id": "8cbdd19d-4bf9-45e0-a4f4-76cbf67f4e76",
   "metadata": {},
   "outputs": [],
   "source": [
    "mapa = {\n",
    "    'a' : 34,\n",
    "    'b' : [34123]\n",
    "}"
   ]
  },
  {
   "cell_type": "code",
   "execution_count": 73,
   "id": "67611499-5420-40a0-9858-fcd72e3854d4",
   "metadata": {},
   "outputs": [],
   "source": [
    "mapa['c'] = 34"
   ]
  },
  {
   "cell_type": "code",
   "execution_count": 75,
   "id": "2105db86-bfbe-4608-85c6-35755de1449f",
   "metadata": {},
   "outputs": [],
   "source": [
    "del mapa['b']"
   ]
  },
  {
   "cell_type": "code",
   "execution_count": 76,
   "id": "a3bb3a53-2d7f-4d42-a888-4497254b2670",
   "metadata": {},
   "outputs": [
    {
     "data": {
      "text/plain": [
       "{'a': 34, 'c': 34}"
      ]
     },
     "execution_count": 76,
     "metadata": {},
     "output_type": "execute_result"
    }
   ],
   "source": [
    "mapa"
   ]
  },
  {
   "cell_type": "code",
   "execution_count": 77,
   "id": "28da8ec2-2a7a-4f87-a8f3-870934118d19",
   "metadata": {},
   "outputs": [
    {
     "data": {
      "text/plain": [
       "dict_items([('a', 34), ('c', 34)])"
      ]
     },
     "execution_count": 77,
     "metadata": {},
     "output_type": "execute_result"
    }
   ],
   "source": [
    "mapa.items()"
   ]
  },
  {
   "cell_type": "code",
   "execution_count": 78,
   "id": "129b413e-8a44-4f64-8551-7a95456ee5e7",
   "metadata": {},
   "outputs": [
    {
     "data": {
      "text/plain": [
       "dict_keys(['a', 'c'])"
      ]
     },
     "execution_count": 78,
     "metadata": {},
     "output_type": "execute_result"
    }
   ],
   "source": [
    "mapa.keys()"
   ]
  },
  {
   "cell_type": "code",
   "execution_count": 83,
   "id": "71dff03b-8e52-42a0-9b0e-2493406d6180",
   "metadata": {},
   "outputs": [
    {
     "name": "stdout",
     "output_type": "stream",
     "text": [
      "Vozilo\n"
     ]
    }
   ],
   "source": [
    "class Vozilo:\n",
    "    reg_broj = ''\n",
    "    \n",
    "    def __init__(self, rb):\n",
    "        print('Vozilo')\n",
    "        self.reg_broj = rb\n",
    "\n",
    "a = Vozilo('BG-1234')\n",
    "a.godiste = 2017"
   ]
  },
  {
   "cell_type": "code",
   "execution_count": 80,
   "id": "bf408a33-701f-4a1e-8671-36492ad4509f",
   "metadata": {},
   "outputs": [
    {
     "data": {
      "text/plain": [
       "type"
      ]
     },
     "execution_count": 80,
     "metadata": {},
     "output_type": "execute_result"
    }
   ],
   "source": [
    "type(Vozilo)"
   ]
  },
  {
   "cell_type": "code",
   "execution_count": null,
   "id": "3533215f-2056-41d4-9b41-25c7b75f6801",
   "metadata": {},
   "outputs": [],
   "source": []
  }
 ],
 "metadata": {
  "kernelspec": {
   "display_name": "Python 3 (ipykernel)",
   "language": "python",
   "name": "python3"
  }
 },
 "nbformat": 4,
 "nbformat_minor": 5
}
