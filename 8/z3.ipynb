{
 "cells": [
  {
   "cell_type": "code",
   "execution_count": 1,
   "id": "4d97a86b-5f16-40e5-8ecb-126656509386",
   "metadata": {},
   "outputs": [],
   "source": [
    "from z3 import *"
   ]
  },
  {
   "cell_type": "code",
   "execution_count": 3,
   "id": "83c0dc84-fb00-4ab3-8e76-c20b78df2303",
   "metadata": {},
   "outputs": [
    {
     "name": "stdout",
     "output_type": "stream",
     "text": [
      "[A = True, D = True, B = False, C = False]\n"
     ]
    }
   ],
   "source": [
    "# Zapisati uslov da je 4-bitna reprezentacija broja palindrom, ali da nisu svi bitovi isti\n",
    "\n",
    "A, B, C, D = Bools('A B C D')\n",
    "\n",
    "s = Solver()\n",
    "s.add(A==D, B==C, Not(And(A==B, B==C, C==D)))\n",
    "\n",
    "status = s.check()\n",
    "if status == sat:\n",
    "    print(s.model())"
   ]
  },
  {
   "cell_type": "code",
   "execution_count": 4,
   "id": "0d2c07a2-93f8-4935-b368-2229ddf1591f",
   "metadata": {},
   "outputs": [
    {
     "name": "stdout",
     "output_type": "stream",
     "text": [
      "[y = 7/2, x = -3, z = -7/2]\n"
     ]
    }
   ],
   "source": [
    "x, y, z = Reals('x y z')\n",
    "\n",
    "s = Solver()\n",
    "s.add(\n",
    "    x + 5*y + 3*z == 4,\n",
    "    -x + y + z == 3,\n",
    "    2*x + y - z == 1\n",
    ")\n",
    "\n",
    "status = s.check()\n",
    "if status == sat:\n",
    "    print(s.model())"
   ]
  },
  {
   "cell_type": "code",
   "execution_count": 5,
   "id": "4e7c3615-416e-4451-af83-9c4d540d71fa",
   "metadata": {},
   "outputs": [
    {
     "name": "stdout",
     "output_type": "stream",
     "text": [
      "[a = False, f = [else -> 0], g = [else -> True]]\n"
     ]
    }
   ],
   "source": [
    "# Bool, Real, Int, BitVec, Array, Index, String...\n",
    "# Function\n",
    "\n",
    "# Sort == Domen\n",
    "B = BoolSort()\n",
    "Z = IntSort()\n",
    "\n",
    "# f: B -> Z\n",
    "f = Function('f', B, Z)\n",
    "\n",
    "# g: Z -> B\n",
    "g = Function('g', Z, B)\n",
    "\n",
    "a = Bool('a')\n",
    "solve(g(1+f(a)))"
   ]
  },
  {
   "cell_type": "code",
   "execution_count": 7,
   "id": "fe733d3b-f63a-4d7e-bd00-70a5b82928ec",
   "metadata": {},
   "outputs": [
    {
     "name": "stdout",
     "output_type": "stream",
     "text": [
      "[y = 0, x = -1]\n"
     ]
    }
   ],
   "source": [
    "x, y = Ints('x y')\n",
    "# Za svako y, ako je y <= 0, onda je x < y. I y == x + 1\n",
    "solve([ y == x + 1, ForAll([y], Implies(y <= 0, Exists([x], x < y)))])"
   ]
  },
  {
   "cell_type": "code",
   "execution_count": 8,
   "id": "db4e07a3-019d-42e8-a98d-168bd2ace192",
   "metadata": {},
   "outputs": [
    {
     "name": "stdout",
     "output_type": "stream",
     "text": [
      "sat\n"
     ]
    }
   ],
   "source": [
    "# Dve nemimoilazne prave se seku ili su paralelne.\n",
    "# Prave koje se seku leze u istoj ravni.\n",
    "# Prave koje su paralelne leze u istoj ravni.\n",
    "# Dve nemimoilazne prave leze u istoj ravni.\n",
    "\n",
    "# m(X,Y) - X i Y su nemimoilazne: m: PxP -> B\n",
    "# s(X,Y) - X i Y se seku: s: PxP -> B\n",
    "# p(X,Y) - X i Y su paralelne: p: PxP -> B\n",
    "# r(X,Y) - X i Y su istoj ravni: r: PxP -> B\n",
    "\n",
    "B = BoolSort()\n",
    "P = DeclareSort('Prave')\n",
    "m = Function('m', P, P, B)\n",
    "s = Function('s', P, P, B)\n",
    "p = Function('p', P, P, B)\n",
    "r = Function('r', P, P, B)\n",
    "\n",
    "x, y = Consts('x y', P)\n",
    "\n",
    "solver = Solver()\n",
    "axioms = [\n",
    "    ForAll([x,y], Implies(m(x,y), Or(s(x,y), p(x,y)))),\n",
    "    ForAll([x,y], Implies(s(x,y), r(x,y))),\n",
    "    ForAll([x,y], Implies(p(x,y), r(x,y))),\n",
    "]\n",
    "conjecture = ForAll([x,y], Implies(m(x,y), r(x,y))),\n",
    "\n",
    "solver.add(conjecture)\n",
    "\n",
    "print(solver.check(axioms))"
   ]
  },
  {
   "cell_type": "code",
   "execution_count": 16,
   "id": "2f068e1c-6dfa-4f02-86ad-c1783e06a38d",
   "metadata": {},
   "outputs": [
    {
     "data": {
      "text/html": [
       "<b>unsat</b>"
      ],
      "text/plain": [
       "unsat"
      ]
     },
     "execution_count": 16,
     "metadata": {},
     "output_type": "execute_result"
    }
   ],
   "source": [
    "# Svaka dva brata imaju zajednickog roditelja\n",
    "# Roditelj je stariji od deteta\n",
    "# Postoje braca\n",
    "# Ni jedna osoba nije starija od druge\n",
    "\n",
    "# b: OxO -> B\n",
    "\n",
    "B = BoolSort()\n",
    "O = DeclareSort('Osoba')\n",
    "\n",
    "b = Function('braca', O, O, B)\n",
    "r = Function('roditelj', O, O, B)\n",
    "s = Function('stariji', O, O, B)\n",
    "\n",
    "x,y,z = Consts('x y z', O)\n",
    "\n",
    "solver = Solver()\n",
    "axioms = [\n",
    "    ForAll([x,y], Exists([z], Implies(b(x, y), And(r(z,x), r(z,y))))),\n",
    "    ForAll([x,y], Implies(r(x,y), s(x,y))),\n",
    "    Exists([x,y], b(x,y))\n",
    "]\n",
    "conjecture = ForAll([x,y], Not(s(x,y)))\n",
    "\n",
    "solver.add(conjecture)\n",
    "solver.check(axioms)"
   ]
  },
  {
   "cell_type": "code",
   "execution_count": 19,
   "id": "43021bfd-3cc4-489a-9eac-d238ccb75b7c",
   "metadata": {},
   "outputs": [
    {
     "name": "stdout",
     "output_type": "stream",
     "text": [
      "[Q_3 = 6,\n",
      " Q_1 = 1,\n",
      " Q_7 = 0,\n",
      " Q_5 = 7,\n",
      " Q_4 = 2,\n",
      " Q_0 = 4,\n",
      " Q_2 = 3,\n",
      " Q_6 = 5]\n"
     ]
    }
   ],
   "source": [
    "# n dama\n",
    "\n",
    "# Bool p_i_j - Na polju (i, j) se nalazi dama\n",
    "# Int Q_{i} -> Broj kolone u kojoj se nalazi dama u i-tom redu\n",
    "# Q_4 = 3 -> U cetvrtom redu, dama se nalazi na trecoj koloni\n",
    "\n",
    "n = 8\n",
    "Q = [Int(f'Q_{i}') for i in range(n)]\n",
    "val_c = [And(0<=q, q<n) for q in Q]\n",
    "col_c = [Distinct(Q)]\n",
    "diag_c = [\n",
    "    And(Q[i] - Q[j] != i - j, Q[i] - Q[j] != j - i)\n",
    "    for i in range(n) for j in range(i) if i!=j\n",
    "]\n",
    "\n",
    "n_queens = val_c + col_c + diag_c\n",
    "\n",
    "solve(n_queens)"
   ]
  }
 ],
 "metadata": {
  "kernelspec": {
   "display_name": "Python 3 (ipykernel)",
   "language": "python",
   "name": "python3"
  },
  "language_info": {
   "codemirror_mode": {
    "name": "ipython",
    "version": 3
   },
   "file_extension": ".py",
   "mimetype": "text/x-python",
   "name": "python",
   "nbconvert_exporter": "python",
   "pygments_lexer": "ipython3",
   "version": "3.12.3"
  }
 },
 "nbformat": 4,
 "nbformat_minor": 5
}
